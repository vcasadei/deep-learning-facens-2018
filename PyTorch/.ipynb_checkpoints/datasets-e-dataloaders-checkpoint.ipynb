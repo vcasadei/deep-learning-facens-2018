{
 "cells": [
  {
   "cell_type": "markdown",
   "metadata": {},
   "source": [
    "# Datasets e DataLoaders no Pytorch"
   ]
  },
  {
   "cell_type": "markdown",
   "metadata": {},
   "source": [
    "Demonstração do funcionamento dos Datasets e Dataloaders no Pytorch"
   ]
  },
  {
   "cell_type": "markdown",
   "metadata": {},
   "source": [
    "### Objetivo"
   ]
  },
  {
   "cell_type": "markdown",
   "metadata": {},
   "source": [
    "O objetivo deste notebook é demonstrar as três formas de carregar e usar dados no PyTorch:\n",
    "\n",
    "* torch.utils.data.TensorDataset\n",
    "* torch.utils.data.Dataset \n",
    "* torch.utils.data.DataLoader \n",
    "\n",
    "Neste notebook usaremos o dataset de Flores Íris, já visto anteriormente"
   ]
  },
  {
   "cell_type": "code",
   "execution_count": 2,
   "metadata": {
    "ExecuteTime": {
     "end_time": "2017-10-08T11:34:30.937052Z",
     "start_time": "2017-10-08T11:34:30.479875Z"
    }
   },
   "outputs": [],
   "source": [
    "import numpy as np\n",
    "import torch\n",
    "from torch.utils.data import TensorDataset\n",
    "\n",
    "from torchvision import transforms\n",
    "\n",
    "from sklearn.datasets import load_iris"
   ]
  },
  {
   "cell_type": "markdown",
   "metadata": {},
   "source": [
    "# Datasets"
   ]
  },
  {
   "cell_type": "markdown",
   "metadata": {},
   "source": [
    "No Pytorch, datasets são objetos utilizados para armazenar, indexar, transformar e retornar elementos de um conjunto de dados.\n",
    "\n",
    "Existem duas formas de se criar um dataset em PyTorch:\n",
    "\n",
    "* Transformar os dados de entrada em tensores torch e criar o dataset com torch.utils.data.TensorDataset¶\n",
    "* Criar uma classe filha de torch.utils.data.Dataset"
   ]
  },
  {
   "cell_type": "markdown",
   "metadata": {},
   "source": [
    "## Criando um Dataset com `torch.utils.data.TensorDataset`"
   ]
  },
  {
   "cell_type": "markdown",
   "metadata": {},
   "source": [
    "Se os dados e as classes forem disponibilizados em arrays do numpy ou tensores do próprio PyTorch é possível criar um dataset utilizando [torch.utils.data.TensorDataset](http://pytorch.org/docs/master/data.html#torch.utils.data.TensorDataset):"
   ]
  },
  {
   "cell_type": "markdown",
   "metadata": {
    "ExecuteTime": {
     "end_time": "2017-10-08T11:34:30.937052Z",
     "start_time": "2017-10-08T11:34:30.479875Z"
    }
   },
   "source": [
    "### Dados anotados: x_data (comprimento das sépalas) e target (comprimento das pétalas)  "
   ]
  },
  {
   "cell_type": "code",
   "execution_count": 3,
   "metadata": {
    "ExecuteTime": {
     "end_time": "2017-10-08T11:34:30.937052Z",
     "start_time": "2017-10-08T11:34:30.479875Z"
    }
   },
   "outputs": [
    {
     "name": "stdout",
     "output_type": "stream",
     "text": [
      "dimensões de x_data: (50, 1)\n",
      "dimensões de target: (50, 1)\n"
     ]
    }
   ],
   "source": [
    "iris = load_iris()\n",
    "data = iris.data[iris.target==1,::2]  # comprimento das sépalas e pétalas, indices 0 e 2\n",
    "\n",
    "x_data = data[:,0:1]\n",
    "target = data[:,1:2]\n",
    "\n",
    "print('dimensões de x_data:', x_data.shape)\n",
    "print('dimensões de target:', target.shape)"
   ]
  },
  {
   "cell_type": "markdown",
   "metadata": {
    "ExecuteTime": {
     "end_time": "2017-10-08T11:34:30.944416Z",
     "start_time": "2017-10-08T11:34:30.938947Z"
    },
    "collapsed": true
   },
   "source": [
    "### Passo 1: transformar o array numpy em tensores torch"
   ]
  },
  {
   "cell_type": "code",
   "execution_count": 4,
   "metadata": {
    "ExecuteTime": {
     "end_time": "2017-10-08T11:34:30.944416Z",
     "start_time": "2017-10-08T11:34:30.938947Z"
    }
   },
   "outputs": [],
   "source": [
    "x_data = torch.FloatTensor(x_data)\n",
    "target = torch.FloatTensor(target)"
   ]
  },
  {
   "cell_type": "markdown",
   "metadata": {
    "ExecuteTime": {
     "end_time": "2017-10-08T11:34:30.944416Z",
     "start_time": "2017-10-08T11:34:30.938947Z"
    },
    "collapsed": true
   },
   "source": [
    "### Passo 2: usar `TensorDataset` para criar o dataset com os tensores"
   ]
  },
  {
   "cell_type": "code",
   "execution_count": 5,
   "metadata": {
    "ExecuteTime": {
     "end_time": "2017-10-08T11:34:30.944416Z",
     "start_time": "2017-10-08T11:34:30.938947Z"
    }
   },
   "outputs": [],
   "source": [
    "dataset = TensorDataset(x_data, target)"
   ]
  },
  {
   "cell_type": "markdown",
   "metadata": {},
   "source": [
    "O dataset pode ser indexado como uma lista e cada elemento retorna uma tupla:\n",
    "- dado de entrada e\n",
    "- dado de saída."
   ]
  },
  {
   "cell_type": "code",
   "execution_count": 6,
   "metadata": {
    "ExecuteTime": {
     "end_time": "2017-10-08T11:34:30.953173Z",
     "start_time": "2017-10-08T11:34:30.947028Z"
    }
   },
   "outputs": [
    {
     "name": "stdout",
     "output_type": "stream",
     "text": [
      "sépala: \n",
      " 5\n",
      "[torch.FloatTensor of size 1]\n",
      "\n",
      "pétala: \n",
      " 3.5000\n",
      "[torch.FloatTensor of size 1]\n",
      "\n"
     ]
    }
   ],
   "source": [
    "i = 10\n",
    "x, y = dataset[i]\n",
    "\n",
    "print('sépala:', x)\n",
    "print('pétala:', y)"
   ]
  },
  {
   "cell_type": "markdown",
   "metadata": {},
   "source": [
    "## Criando um Dataset com `torch.utils.data.Dataset`"
   ]
  },
  {
   "cell_type": "markdown",
   "metadata": {},
   "source": [
    "É possível criar uma nova classe personalizada representando um dataset. Esta classe deve herdar de [torch.utils.data.Dataset](http://pytorch.org/docs/master/data.html#torch.utils.data.Dataset) para tratar casos mais complexos e especiais."
   ]
  },
  {
   "cell_type": "markdown",
   "metadata": {},
   "source": [
    "### Estrutura do Dataset"
   ]
  },
  {
   "cell_type": "markdown",
   "metadata": {},
   "source": [
    "Sempre que se herda de `Dataset` é preciso implementar os métodos:\n",
    "- `__len__`: para retornar o tamanho do dataset, e\n",
    "- `__getitem__`: para retornar um elemento de um índice dado.\n",
    "\n",
    "O método `__len__` é chamado quando usamos a chamada `len(dataset)` do Python e `__getitem__` é chamado quando fazemos a indexação `dataset[i]`.\n",
    "\n",
    "É possível inicializar variáveis da classe no construtor (`__init__`) do dataset."
   ]
  },
  {
   "cell_type": "code",
   "execution_count": 7,
   "metadata": {
    "ExecuteTime": {
     "end_time": "2017-10-08T11:34:30.961940Z",
     "start_time": "2017-10-08T11:34:30.955215Z"
    }
   },
   "outputs": [],
   "source": [
    "from torch.utils.data import Dataset\n",
    "\n",
    "class IrisDataset(Dataset):\n",
    "    def __init__(self, x_data, target):\n",
    "        super(IrisDataset, self).__init__()\n",
    "       \n",
    "        self.data = x_data\n",
    "        self.target = target\n",
    "            \n",
    "    def __len__(self):\n",
    "        return self.data.shape[0]\n",
    "    \n",
    "    def __getitem__(self, index):\n",
    "        \n",
    "        sepala = self.data[index]\n",
    "        petala = self.target[index]\n",
    "        \n",
    "        return sepala, petala"
   ]
  },
  {
   "cell_type": "markdown",
   "metadata": {},
   "source": [
    "Nossa classe está pronta, podemos criar um objeto dela."
   ]
  },
  {
   "cell_type": "markdown",
   "metadata": {
    "ExecuteTime": {
     "end_time": "2017-10-08T11:34:30.998713Z",
     "start_time": "2017-10-08T11:34:30.994307Z"
    },
    "collapsed": true
   },
   "source": [
    "### Criando e testando um objeto da nossa classe"
   ]
  },
  {
   "cell_type": "markdown",
   "metadata": {},
   "source": [
    "Para exemplificar o uso de classes de transformação os dados foram novamente gerados como array numpy."
   ]
  },
  {
   "cell_type": "code",
   "execution_count": 9,
   "metadata": {
    "ExecuteTime": {
     "end_time": "2017-10-08T11:34:30.998713Z",
     "start_time": "2017-10-08T11:34:30.994307Z"
    }
   },
   "outputs": [],
   "source": [
    "x = data[:,0:1]\n",
    "y = data[:,1:2]\n",
    "\n",
    "dataset = IrisDataset(x, y)"
   ]
  },
  {
   "cell_type": "markdown",
   "metadata": {},
   "source": [
    "Nosso método `__len__` deve retornar o tamanho da primeira dimensão dos dados.\n",
    "\n",
    "Podemos verificar se o método está correto chamando o `len()` do Python:"
   ]
  },
  {
   "cell_type": "code",
   "execution_count": 10,
   "metadata": {
    "ExecuteTime": {
     "end_time": "2017-10-08T11:34:31.007017Z",
     "start_time": "2017-10-08T11:34:31.001464Z"
    },
    "scrolled": true
   },
   "outputs": [
    {
     "name": "stdout",
     "output_type": "stream",
     "text": [
      "50\n"
     ]
    }
   ],
   "source": [
    "print(len(dataset))"
   ]
  },
  {
   "cell_type": "markdown",
   "metadata": {},
   "source": [
    "Nosso método `__getitem__()` deve retornar uma tupla na i-ésima posição no dataset, no nosso caso `data[i]` e `target[i]`:"
   ]
  },
  {
   "cell_type": "code",
   "execution_count": 11,
   "metadata": {
    "ExecuteTime": {
     "end_time": "2017-10-08T11:34:31.017354Z",
     "start_time": "2017-10-08T11:34:31.009628Z"
    },
    "scrolled": true
   },
   "outputs": [
    {
     "name": "stdout",
     "output_type": "stream",
     "text": [
      "(array([6.4]), array([4.5]))\n"
     ]
    }
   ],
   "source": [
    "i = 1\n",
    "print(dataset[i])"
   ]
  },
  {
   "cell_type": "code",
   "execution_count": 12,
   "metadata": {
    "ExecuteTime": {
     "end_time": "2017-10-08T11:34:31.043575Z",
     "start_time": "2017-10-08T11:34:31.035989Z"
    }
   },
   "outputs": [
    {
     "name": "stdout",
     "output_type": "stream",
     "text": [
      "sépala: [5.5]\n",
      "pétala: [3.8]\n"
     ]
    }
   ],
   "source": [
    "data, target = dataset[30]\n",
    "\n",
    "print('sépala:', data)\n",
    "print('pétala:', target)"
   ]
  },
  {
   "cell_type": "markdown",
   "metadata": {},
   "source": [
    "### Conclusão"
   ]
  },
  {
   "cell_type": "markdown",
   "metadata": {},
   "source": [
    "O caso apresentado neste tópico é muito simples, apresentando os conceitos básicos da estrutura que o Pytorch utiliza para representar datasets. A classe torch.utils.data.Dataset é usada para casos complexos em que é preciso, por exemplo, carregar o dataset de arquivos e quando o gerenciamento dos dados não é tão trivial ou quando queremos aplicar uma transformação ao dado."
   ]
  },
  {
   "cell_type": "markdown",
   "metadata": {},
   "source": [
    "# DataLoaders"
   ]
  },
  {
   "cell_type": "markdown",
   "metadata": {},
   "source": [
    "Um DataLoader ([torch.utils.data.DataLoader](http://pytorch.org/docs/master/data.html#torch.utils.data.DataLoader)) combina um Dataset e um Sampler (divide os dados em batches). \n",
    "\n",
    "O DataLoader permite que os dados possam ser processados na forma de \"mini-batches\". A cada nova chamada do objeto criado com o DataLoader, um novo conjunto de dados é retornado. O DataLoader é a ferramenta do PyTorch para implementar o treinamento do gradiente descendente por \"mini-batches\". O treinamento por mini-batches possui duas grandes vantagens:\n",
    "- Implementa o gradiente descendente estocástico via mini-batch, que acelera o treinamento;\n",
    "- Permite que os dados do mini-batch a serem otimizados caibam na memória (normalmente da GPU).\n"
   ]
  },
  {
   "cell_type": "markdown",
   "metadata": {},
   "source": [
    "## Criando um DataLoader"
   ]
  },
  {
   "cell_type": "markdown",
   "metadata": {},
   "source": [
    "Vamos utilizar o dataset já criado anteriormente para ser a fonte de dados do nosso DataLoader."
   ]
  },
  {
   "cell_type": "code",
   "execution_count": 13,
   "metadata": {
    "ExecuteTime": {
     "end_time": "2017-10-08T11:34:31.066111Z",
     "start_time": "2017-10-08T11:34:31.057572Z"
    }
   },
   "outputs": [
    {
     "name": "stdout",
     "output_type": "stream",
     "text": [
      "tamanho do dataset:  50\n",
      "amostra 12: (array([6.]), array([4.]))\n"
     ]
    }
   ],
   "source": [
    "print('tamanho do dataset: ', len(dataset))\n",
    "print('amostra 12:', dataset[12])"
   ]
  },
  {
   "cell_type": "markdown",
   "metadata": {},
   "source": [
    "Agora podemos criar o DataLoader com o dataset"
   ]
  },
  {
   "cell_type": "code",
   "execution_count": 14,
   "metadata": {
    "ExecuteTime": {
     "end_time": "2017-10-08T11:34:31.074580Z",
     "start_time": "2017-10-08T11:34:31.068844Z"
    }
   },
   "outputs": [],
   "source": [
    "from torch.utils.data import DataLoader\n",
    "\n",
    "data_loader = DataLoader(dataset, \n",
    "                         batch_size=10, # tamanho do mini-batch de dados\n",
    "                         shuffle=False) # se for True, embaralha os dados no inicio de cada iteração"
   ]
  },
  {
   "cell_type": "markdown",
   "metadata": {},
   "source": [
    "## Iterando sobre o DataLoader"
   ]
  },
  {
   "cell_type": "markdown",
   "metadata": {},
   "source": [
    "Podemos iterar sobre o DataLoader utilizando um `for`"
   ]
  },
  {
   "cell_type": "code",
   "execution_count": 15,
   "metadata": {
    "ExecuteTime": {
     "end_time": "2017-10-08T11:34:31.130351Z",
     "start_time": "2017-10-08T11:34:31.076932Z"
    }
   },
   "outputs": [
    {
     "name": "stdout",
     "output_type": "stream",
     "text": [
      "batch  0\n",
      "batch  1\n",
      "batch  2\n",
      "batch  3\n",
      "batch  4\n",
      "tamanho do DataLoader 5\n",
      "tamanho do dataset 50\n"
     ]
    }
   ],
   "source": [
    "batch_n = 0\n",
    "n_samples = 0\n",
    "for data in data_loader:\n",
    "    print('batch ', batch_n)\n",
    "    batch_n += 1\n",
    "    n_samples += len(data[0])\n",
    "    \n",
    "print('tamanho do DataLoader', len(data_loader))\n",
    "print('tamanho do dataset', n_samples)"
   ]
  },
  {
   "cell_type": "markdown",
   "metadata": {},
   "source": [
    "O tamanho do DataLoader é 5, pois temos batches de tamanho 10 dados no dataloader.\n",
    "\n",
    "Agora podemos utilizar os dados do DataLoader:"
   ]
  },
  {
   "cell_type": "code",
   "execution_count": 16,
   "metadata": {
    "ExecuteTime": {
     "end_time": "2017-10-08T11:34:31.170947Z",
     "start_time": "2017-10-08T11:34:31.134178Z"
    }
   },
   "outputs": [
    {
     "name": "stdout",
     "output_type": "stream",
     "text": [
      "dimensão do batch de sépalas 0:   torch.Size([10, 1])\n",
      "dimensão do batch de pétalas 0: torch.Size([10, 1])\n",
      "\n",
      "dimensão do batch de sépalas 1:   torch.Size([10, 1])\n",
      "dimensão do batch de pétalas 1: torch.Size([10, 1])\n",
      "\n",
      "dimensão do batch de sépalas 2:   torch.Size([10, 1])\n",
      "dimensão do batch de pétalas 2: torch.Size([10, 1])\n",
      "\n",
      "dimensão do batch de sépalas 3:   torch.Size([10, 1])\n",
      "dimensão do batch de pétalas 3: torch.Size([10, 1])\n",
      "\n",
      "dimensão do batch de sépalas 4:   torch.Size([10, 1])\n",
      "dimensão do batch de pétalas 4: torch.Size([10, 1])\n",
      "\n"
     ]
    }
   ],
   "source": [
    "batch_n = 0\n",
    "\n",
    "for data in data_loader:\n",
    "    # separa a tupla em petalas e sépalas\n",
    "    data_batch, targets_batch = data\n",
    "    \n",
    "    print('dimensão do batch de sépalas {}:   {}'.format(batch_n, data_batch.size()))\n",
    "    print('dimensão do batch de pétalas {}: {}\\n'.format(batch_n, targets_batch.size()))\n",
    "    batch_n += 1\n"
   ]
  },
  {
   "cell_type": "markdown",
   "metadata": {},
   "source": [
    "É possível ver que os batches tem mesmo 10 dados (5 matrizes 10x1 para as sépalas e 5 matrizes 10x1 para as pétalas)"
   ]
  },
  {
   "cell_type": "markdown",
   "metadata": {},
   "source": [
    "No exemplo abaixo é possível ver que, com shuffle igual o False, os dados de cada mini-batch são sempre os mesmos. Cada cor contém os dados de um mini-batch:"
   ]
  },
  {
   "cell_type": "code",
   "execution_count": 17,
   "metadata": {},
   "outputs": [],
   "source": [
    "%matplotlib inline\n",
    "import matplotlib.pyplot as plt"
   ]
  },
  {
   "cell_type": "code",
   "execution_count": 18,
   "metadata": {},
   "outputs": [],
   "source": [
    "data_loader = DataLoader(dataset, \n",
    "                         batch_size=10, # tamanho do mini-batch de dados\n",
    "                         shuffle=False) # se for True, embaralha os dados no inicio de cada iteração"
   ]
  },
  {
   "cell_type": "code",
   "execution_count": 19,
   "metadata": {
    "scrolled": true
   },
   "outputs": [
    {
     "data": {
      "image/png": "[encoded data removed]",
      "text/plain": [
       "<matplotlib.figure.Figure at 0x7f4d2f1aa630>"
      ]
     },
     "metadata": {},
     "output_type": "display_data"
    }
   ],
   "source": [
    "color = [\"b\",\"g\",\"r\",\"c\",\"m\"]\n",
    "mark = ['+', '.', '^', 'o', 'x']\n",
    "fig = plt.figure(figsize=(16,5))\n",
    "ax1 = fig.add_subplot(1,2,1)\n",
    "ax1.set_xlabel('Comprimento sepalas')\n",
    "ax1.set_ylabel('Comprimento petalas')\n",
    "ax1.set_title('Primeira iteração')\n",
    "\n",
    "for i,data in enumerate(data_loader):\n",
    "    # separa a tupla em petalas e sépalas\n",
    "    data_batch, targets_batch = data\n",
    "    \n",
    "    ax1.scatter(data_batch, targets_batch, c=color[i], marker=mark[i])\n",
    "\n",
    "ax2 = fig.add_subplot(1,2,2)\n",
    "ax2.set_xlabel('Comprimento normalizado sepalas')\n",
    "ax2.set_ylabel('Comprimento normalizado petalas')\n",
    "ax2.set_title('Segunda iteração')\n",
    "\n",
    "for i,data in enumerate(data_loader):\n",
    "    # separa a tupla em petalas e sépalas\n",
    "    data_batch, targets_batch = data\n",
    "    \n",
    "    ax2.scatter(data_batch, targets_batch, c=color[i], marker=mark[i])\n"
   ]
  },
  {
   "cell_type": "markdown",
   "metadata": {},
   "source": [
    "Com shuffle igual a True, os dados do mini-batch sempre mudam a cada iteração:"
   ]
  },
  {
   "cell_type": "code",
   "execution_count": 20,
   "metadata": {},
   "outputs": [],
   "source": [
    "data_loader = DataLoader(dataset, \n",
    "                         batch_size=10, # tamanho do mini-batch de dados\n",
    "                         shuffle=True)  # se for True, embaralha os dados no inicio de cada iteração"
   ]
  },
  {
   "cell_type": "code",
   "execution_count": 21,
   "metadata": {},
   "outputs": [
    {
     "data": {
      "image/png": "[encoded data removed]",
      "text/plain": [
       "<matplotlib.figure.Figure at 0x7f4d2b8d5f98>"
      ]
     },
     "metadata": {},
     "output_type": "display_data"
    }
   ],
   "source": [
    "color = [\"b\",\"g\",\"r\",\"c\",\"m\"]\n",
    "mark = ['+', '.', '^', 'o', 'x']\n",
    "fig = plt.figure(figsize=(16,5))\n",
    "ax1 = fig.add_subplot(1,2,1)\n",
    "ax1.set_xlabel('Comprimento sepalas')\n",
    "ax1.set_ylabel('Comprimento petalas')\n",
    "ax1.set_title('Primeira iteração')\n",
    "\n",
    "for i,data in enumerate(data_loader):\n",
    "    # separa a tupla em petalas e sépalas\n",
    "    data_batch, targets_batch = data\n",
    "    \n",
    "    ax1.scatter(data_batch, targets_batch, c=color[i], marker=mark[i])\n",
    "\n",
    "ax2 = fig.add_subplot(1,2,2)\n",
    "ax2.set_xlabel('Comprimento normalizado sepalas')\n",
    "ax2.set_ylabel('Comprimento normalizado petalas')\n",
    "ax2.set_title('Segunda iteração')\n",
    "\n",
    "for i,data in enumerate(data_loader):\n",
    "    # separa a tupla em petalas e sépalas\n",
    "    data_batch, targets_batch = data\n",
    "    \n",
    "    ax2.scatter(data_batch, targets_batch, c=color[i], marker=mark[i])"
   ]
  },
  {
   "cell_type": "markdown",
   "metadata": {},
   "source": [
    "## Exercício"
   ]
  },
  {
   "cell_type": "markdown",
   "metadata": {},
   "source": [
    "Defina seu próprio DataLoader na segunda célula abaixo. Faça com que cada batch tenha 10 matrizes 3x3. Utilize o dataset já criado anteriormente.\n",
    "\n",
    "Em seguida complete o loop que itera sobre o seu DataLoader para que seja possível plotar as matrizes de cada batch. Utilize a função plot_batch para plotar as matrizes de um batch inteiro."
   ]
  },
  {
   "cell_type": "code",
   "execution_count": null,
   "metadata": {
    "ExecuteTime": {
     "end_time": "2017-10-08T11:34:31.618698Z",
     "start_time": "2017-10-08T11:34:31.174023Z"
    }
   },
   "outputs": [],
   "source": [
    "# Código usado no exercício para plotar as imagens, NÃO É NECESSÁRIO ALTERAR\n",
    "import matplotlib.pyplot as plt\n",
    "import math \n",
    "\n",
    "def plot_batch(batch, batch_n):\n",
    "    fig = plt.figure(figsize=(5,2))\n",
    "    for j, mat in enumerate(batch):\n",
    "        plt.subplot(1, batch.size(0), j+1)\n",
    "        plt.imshow(mat.numpy(), cmap='gray')\n",
    "        plt.axis('off')\n",
    "    plt.suptitle('batch {} - {} elementos'.format(batch_n, batch.size(0)))\n",
    "    plt.show()"
   ]
  },
  {
   "cell_type": "code",
   "execution_count": null,
   "metadata": {
    "ExecuteTime": {
     "end_time": "2017-10-08T11:34:31.627239Z",
     "start_time": "2017-10-08T11:34:31.620886Z"
    },
    "scrolled": false
   },
   "outputs": [],
   "source": [
    "# -- Defina aqui seu DataLoader com batches de 10 elementos cada ---\n",
    "data_loader = None\n",
    "    \n",
    "# -- Defina aqui o loop sobre todo o DataLoader dando plot em cada batch com os dados\n",
    "for data in []:\n",
    "    # separe o dado das classes\n",
    "    \n",
    "    plot_batch([], batch_n)"
   ]
  },
  {
   "cell_type": "markdown",
   "metadata": {},
   "source": [
    "- A ordem dos elementos se altera entre execuções da célula acima?\n",
    "- Tente colocar o parametro `shuffle` do DataLoader como `True` e obeseve o resultado do exercício, rodando várias vezes."
   ]
  },
  {
   "cell_type": "code",
   "execution_count": null,
   "metadata": {},
   "outputs": [],
   "source": []
  }
 ],
 "metadata": {
  "kernelspec": {
   "display_name": "Python 3",
   "language": "python",
   "name": "python3"
  },
  "language_info": {
   "codemirror_mode": {
    "name": "ipython",
    "version": 3
   },
   "file_extension": ".py",
   "mimetype": "text/x-python",
   "name": "python",
   "nbconvert_exporter": "python",
   "pygments_lexer": "ipython3",
   "version": "3.6.4"
  },
  "toc": {
   "nav_menu": {},
   "number_sections": true,
   "sideBar": true,
   "skip_h1_title": false,
   "toc_cell": false,
   "toc_position": {},
   "toc_section_display": "block",
   "toc_window_display": false
  },
  "varInspector": {
   "cols": {
    "lenName": 16,
    "lenType": 16,
    "lenVar": 40
   },
   "kernels_config": {
    "python": {
     "delete_cmd_postfix": "",
     "delete_cmd_prefix": "del ",
     "library": "var_list.py",
     "varRefreshCmd": "print(var_dic_list())"
    },
    "r": {
     "delete_cmd_postfix": ") ",
     "delete_cmd_prefix": "rm(",
     "library": "var_list.r",
     "varRefreshCmd": "cat(var_dic_list()) "
    }
   },
   "types_to_exclude": [
    "module",
    "function",
    "builtin_function_or_method",
    "instance",
    "_Feature"
   ],
   "window_display": false
  }
 },
 "nbformat": 4,
 "nbformat_minor": 2
}
