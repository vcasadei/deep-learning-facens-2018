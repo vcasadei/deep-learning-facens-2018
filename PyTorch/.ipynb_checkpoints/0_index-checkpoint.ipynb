{
 "cells": [
  {
   "cell_type": "markdown",
   "metadata": {},
   "source": [
    "# Curso Deep Learning - Semana da Engenharia FACENS 2018"
   ]
  },
  {
   "cell_type": "markdown",
   "metadata": {},
   "source": [
    "## I - Introdução a Redes Neurais"
   ]
  },
  {
   "cell_type": "markdown",
   "metadata": {},
   "source": [
    "### Regressão Linear"
   ]
  },
  {
   "cell_type": "markdown",
   "metadata": {},
   "source": [
    "- [RegressaoLinearDemo.ipynb](RegressaoLinearDemo.ipynb)\n",
    "    - Problema Regressão Linear\n",
    "    - Ilustração da dinâmica da otimização via gradiente descendente\n",
    "    - reta sendo ajustada, espaço de parâmetros, curva de perda"
   ]
  },
  {
   "cell_type": "markdown",
   "metadata": {},
   "source": [
    "- [LinearRegressionIrisNumPy.ipynb](LinearRegressionIrisNumPy.ipynb)\n",
    "    - programação matricial NumPy\n",
    "    - gradiente calculado analiticamente\n",
    "    - atualização explicíta do gradiente \n",
    "    "
   ]
  },
  {
   "cell_type": "markdown",
   "metadata": {},
   "source": [
    "- [Exercício de Regressão Linear com Tensores](LinearRegressionIris-Tensor.ipynb)\n",
    "    - reescrita do código NumPy feito no exercício anterior\n"
   ]
  },
  {
   "cell_type": "markdown",
   "metadata": {},
   "source": [
    "- [PyTorch_Variaveis_Gradientes.ipynb](PyTorch_Variaveis_Gradientes.ipynb)\n",
    "    - Introdução à Variables\n",
    "    - interpretação numérica do gradiente"
   ]
  },
  {
   "cell_type": "markdown",
   "metadata": {},
   "source": [
    "- [LinearRegressionIrisPyTorch.ipynb](LinearRegressionIrisPyTorch.ipynb)\n",
    "    - uso da classe nn.Linear\n",
    "    - uso do autograd\n",
    "    - loss explícito\n",
    "    - atualização do parâmetro explícito"
   ]
  },
  {
   "cell_type": "markdown",
   "metadata": {},
   "source": [
    "- [LinearRegressionIrisOptimizer.ipynb](LinearRegressionIrisOptimizer.ipynb)\n",
    "    - uso da classe nn.Linear\n",
    "    - uso de função perda nn.MSELoss\n",
    "    - uso do otimizador"
   ]
  },
  {
   "cell_type": "markdown",
   "metadata": {},
   "source": [
    "### Regressão Logística - classificador"
   ]
  },
  {
   "cell_type": "markdown",
   "metadata": {},
   "source": [
    "- [LogisticRegressionIris.ipynb](LogisticRegressionIris.ipynb)\n",
    "    - alvo: 3 classes iris\n",
    "    - função de perda nn.CrossEntropy\n",
    "    - cálculo da probabilidade pelo SoftMax\n",
    "    - salvando e recuperando pesos de um arquivo\n",
    "    - visualizando fronteira e probabilidades"
   ]
  },
  {
   "cell_type": "markdown",
   "metadata": {},
   "source": [
    "- [LogisticRegressionMNIST.ipynb](LogisticRegressionMNIST.ipynb)\n",
    "    - gradiente descendente com uma única camada\n",
    "    - alvo: 10 classes dígitos manuscritos MNIST\n",
    "    - maior número de atributos\n",
    "    - visualização e interpretação dos parâmetros"
   ]
  },
  {
   "cell_type": "markdown",
   "metadata": {},
   "source": [
    "- [datasets-e-dataloaders.ipynb](datasets-e-dataloaders.ipynb)\n",
    "    - dataload via mini-batches"
   ]
  },
  {
   "cell_type": "markdown",
   "metadata": {},
   "source": [
    "- [LogisticRegressionMNIST-SGD.ipynb](LogisticRegressionMNIST-SGD.ipynb)\n",
    "    - Gradiente estocástico por mini-batch\n",
    "    - Uso do dataloader como gerador de mini-batches"
   ]
  },
  {
   "cell_type": "markdown",
   "metadata": {},
   "source": [
    "### Redes Neurais"
   ]
  },
  {
   "cell_type": "markdown",
   "metadata": {},
   "source": [
    "- [Activations_pytorch.ipynb](Activations_pytorch.ipynb)\n",
    "     - apresentação das ativações com suas equações e gráficos "
   ]
  },
  {
   "cell_type": "markdown",
   "metadata": {},
   "source": [
    "- [Iris classificação com 2 ou mais camadas](Iris-dataset-2-ou-mais-camadas-fronteira-dinamica.ipynb)\n",
    "     - Construção da rede via classe nn\n",
    "     - Rede com mais de uma camada"
   ]
  },
  {
   "cell_type": "markdown",
   "metadata": {},
   "source": [
    " - [underfitting-overfitting-regularization.ipynb](underfitting-overfitting-regularization.ipynb)\n",
    "     - ilustração gráfica do underfitting e overfitting\n",
    "     - regularização L2\n",
    "     - Dados de validação"
   ]
  },
  {
   "cell_type": "markdown",
   "metadata": {},
   "source": [
    "- [RegressaoLinearOtimizadores.ipynb](RegressaoLinearOtimizadores.ipynb)\n",
    "    - Otimizadores do gradiente descendente\n",
    "    - Demo com regressão linear\n",
    "    - SGD, SGD-Momentum, SGD-Nesterov, RMSProp, Adam"
   ]
  },
  {
   "cell_type": "markdown",
   "metadata": {},
   "source": [
    "- [MNIST_neuralnet.ipynb](MNIST_neuralnet.ipynb)\n",
    "    - Uso da biblioteca `pytorch_trainer`, classe DeepNetTrainer\n",
    "    - Funções de alto nível, fit, callbacks\n",
    "    - **MODELO, deve ser usado como referência para todos os próximos notebooks**"
   ]
  },
  {
   "cell_type": "markdown",
   "metadata": {},
   "source": [
    "## II- Redes Neurais Profundas - Redes Convolucionais"
   ]
  },
  {
   "cell_type": "markdown",
   "metadata": {},
   "source": [
    "- [Explorando-Convolucao-no-PyTorch.ipynb](Explorando-Convolucao-no-PyTorch.ipynb)\n",
    "    - uso da convolução do PyTorch\n",
    "    - exemplos numéricos\n",
    "    - exemplos com imagem"
   ]
  },
  {
   "cell_type": "markdown",
   "metadata": {},
   "source": [
    "- [cifar10-CNN-features.ipynb](cifar10-CNN-features.ipynb)\n",
    "    - rede convolucional similar à LeNet\n",
    "    - classificador 3 classes da base CIFAR-10\n",
    "    - visualização camadas intermediárias (extração de atributos)"
   ]
  },
  {
   "cell_type": "markdown",
   "metadata": {},
   "source": [
    "- [Models_ImageNet.ipynb](Models_ImageNet.ipynb)"
   ]
  },
  {
   "cell_type": "markdown",
   "metadata": {},
   "source": [
    "- [data_augmentation_catsdogs.ipynb](data_augmentation_catsdogs.ipynb)\n",
    "    - Ilustração do aumento de dados, usando base cats&dogs"
   ]
  },
  {
   "cell_type": "markdown",
   "metadata": {},
   "source": [
    "- [transfer_learning_catsdogs.ipynb](transfer_learning_catsdogs.ipynb)\n",
    "    - Ilustração do *transfer learning* utilizando base cats&dogs"
   ]
  },
  {
   "cell_type": "markdown",
   "metadata": {},
   "source": [
    "- [facial_features.ipynb](facial_features.ipynb)\n",
    "    - Detecção de pontos faciais utilizando *transfer learning*"
   ]
  },
  {
   "cell_type": "markdown",
   "metadata": {},
   "source": [
    "## Versões dos software instalados"
   ]
  },
  {
   "cell_type": "code",
   "execution_count": 1,
   "metadata": {
    "ExecuteTime": {
     "end_time": "2018-02-20T19:49:53.698432Z",
     "start_time": "2018-02-20T19:49:53.002960Z"
    }
   },
   "outputs": [
    {
     "name": "stdout",
     "output_type": "stream",
     "text": [
      "5.4.0\n",
      "Python versão: 3.6.1 (default, Sep  7 2017, 16:36:03) \n",
      "[GCC 6.3.0 20170406]\n",
      "NumPy versão: 1.14.0\n",
      "PyTorch versão: 0.3.0.post4\n",
      "TorchVision versão: 0.2.0\n"
     ]
    }
   ],
   "source": [
    "!jupyter notebook --version\n",
    "import sys \n",
    "print('Python versão:', sys.version)\n",
    "import numpy\n",
    "print('NumPy versão:',numpy.__version__)\n",
    "import torch\n",
    "print('PyTorch versão:',torch.__version__)\n",
    "import torchvision\n",
    "print('TorchVision versão:', torchvision.__version__)"
   ]
  }
 ],
 "metadata": {
  "kernelspec": {
   "display_name": "Python 3",
   "language": "python",
   "name": "python3"
  },
  "language_info": {
   "codemirror_mode": {
    "name": "ipython",
    "version": 3
   },
   "file_extension": ".py",
   "mimetype": "text/x-python",
   "name": "python",
   "nbconvert_exporter": "python",
   "pygments_lexer": "ipython3",
   "version": "3.6.4"
  },
  "toc": {
   "nav_menu": {
    "height": "30px",
    "width": "252px"
   },
   "number_sections": true,
   "sideBar": true,
   "skip_h1_title": false,
   "toc_cell": false,
   "toc_position": {},
   "toc_section_display": "block",
   "toc_window_display": false
  },
  "varInspector": {
   "cols": {
    "lenName": 16,
    "lenType": 16,
    "lenVar": 40
   },
   "kernels_config": {
    "python": {
     "delete_cmd_postfix": "",
     "delete_cmd_prefix": "del ",
     "library": "var_list.py",
     "varRefreshCmd": "print(var_dic_list())"
    },
    "r": {
     "delete_cmd_postfix": ") ",
     "delete_cmd_prefix": "rm(",
     "library": "var_list.r",
     "varRefreshCmd": "cat(var_dic_list()) "
    }
   },
   "types_to_exclude": [
    "module",
    "function",
    "builtin_function_or_method",
    "instance",
    "_Feature"
   ],
   "window_display": false
  }
 },
 "nbformat": 4,
 "nbformat_minor": 2
}
